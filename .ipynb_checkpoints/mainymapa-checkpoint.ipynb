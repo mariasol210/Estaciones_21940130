{
 "cells": [
  {
   "cell_type": "markdown",
   "metadata": {},
   "source": [
    "TRABAJO GRUPAL PEL"
   ]
  },
  {
   "cell_type": "markdown",
   "metadata": {},
   "source": [
    "Establecer los paths donde estan las librerias externas y cargarlas"
   ]
  },
  {
   "cell_type": "code",
   "execution_count": 1,
   "metadata": {},
   "outputs": [],
   "source": [
    "#pragma cling add_library_path(\"/Users/sol/opt/miniconda3/envs/cling/lib\")\n",
    "#pragma cling add_include_path(\"/Users/sol/opt/miniconda3/envs/cling/include\")\n",
    "#pragma cling load(\"libcurl\")\n",
    "\n",
    "#pragma cling add_library_path(\"/Users/sol/opt/miniconda3/envs/cling/lib\")\n",
    "#pragma cling add_include_path(\"/Users/sol/opt/miniconda3/envs/cling/include\")\n",
    "#pragma cling load(\"libjsoncpp\")"
   ]
  },
  {
   "cell_type": "markdown",
   "metadata": {},
   "source": [
    "Incluir las librerias necesarias"
   ]
  },
  {
   "cell_type": "code",
   "execution_count": 2,
   "metadata": {},
   "outputs": [],
   "source": [
    "#include <iostream>\n",
    "#include <fstream>\n",
    "#include <string>\n",
    "#include <array>\n",
    "\n",
    "//Curl\n",
    "#include <curl/curl.h>\n",
    "\n",
    "//Json\n",
    "#include <json/json.h>\n",
    "#include <json/reader.h>\n",
    "#include <json/writer.h>\n",
    "#include <json/value.h>\n",
    "\n",
    "//Mapas\n",
    "#include \"xleaflet/xmap.hpp\"\n",
    "#include \"xleaflet/xtile_layer.hpp\"\n",
    "#include \"xleaflet/xmarker.hpp\"\n",
    "#include \"xleaflet/xmarker_cluster.hpp\"\n",
    "#include \"xleaflet/xicon.hpp\"\n",
    "#include \"xleaflet/xbasemaps.hpp\"\n",
    "#include \"xleaflet/xpopup.hpp\"\n",
    "#include \"xwidgets/xhtml.hpp\"\n",
    "\n",
    "//mapas y json\n",
    "#include \"xleaflet/xgeo_json.hpp\"\n",
    "\n",
    "using namespace std;\n"
   ]
  },
  {
   "cell_type": "markdown",
   "metadata": {},
   "source": [
    "Estructura para las gasolineras"
   ]
  },
  {
   "cell_type": "code",
   "execution_count": 3,
   "metadata": {},
   "outputs": [],
   "source": [
    "struct nodo {\n",
    "    string provincia;\n",
    "    string municipio;\n",
    "    string localidad;\n",
    "    double longitud;\n",
    "    double latitud;\n",
    "    double precio;\n",
    "\n",
    "    nodo *sgt;\n",
    "};"
   ]
  },
  {
   "cell_type": "code",
   "execution_count": 4,
   "metadata": {},
   "outputs": [],
   "source": [
    "nodo* head=NULL, *fin =NULL, *a=NULL;"
   ]
  },
  {
   "cell_type": "code",
   "execution_count": 5,
   "metadata": {},
   "outputs": [],
   "source": [
    "\n",
    "void eQ(nodo *actual) {\n",
    "\n",
    "    if(fin ==NULL){\n",
    "        actual->sgt=NULL;\n",
    "        fin =actual;\n",
    "        head=actual;\n",
    "    }else{\n",
    "        fin ->sgt=actual;\n",
    "        actual->sgt=NULL;\n",
    "        fin =actual;\n",
    "    }\n",
    "}"
   ]
  },
  {
   "cell_type": "markdown",
   "metadata": {},
   "source": [
    "Funcion para manejar la informacion de respuesta del GET REQUEST"
   ]
  },
  {
   "cell_type": "code",
   "execution_count": 6,
   "metadata": {},
   "outputs": [],
   "source": [
    "static size_t WriteCallback(char* contenido, size_t size, size_t num, string* out) {\n",
    "    out -> append(contenido, size * num);\n",
    "        return size * num;\n",
    "}"
   ]
  },
  {
   "cell_type": "code",
   "execution_count": 7,
   "metadata": {},
   "outputs": [],
   "source": [
    "double toDouble(string s) {\n",
    "    replace(s.begin(), s.end(), ',', '.');\n",
    "        return atof(s.c_str());\n",
    "}"
   ]
  },
  {
   "cell_type": "code",
   "execution_count": 8,
   "metadata": {},
   "outputs": [],
   "source": [
    "static Json::Value ParseJson(string content) {\n",
    "    Json::CharReaderBuilder builder;\n",
    "    Json::CharReader* reader = builder.newCharReader();\n",
    "    \n",
    "    Json::Value jsonData;\n",
    "    string errors;\n",
    "    \n",
    "    bool exitoParseando = reader->parse(content.c_str(), content.c_str() + content.size(), &jsonData, &errors);\n",
    "    delete reader;\n",
    "    \n",
    "    if (!exitoParseando) {\n",
    "        cout << \"Error transfromando la informacion HTTP a JSON\" << std::endl;\n",
    "        cout << \"Los datos del HTTP eran:\\n\" << content << std::endl;\n",
    "        return 0;\n",
    "    }\n",
    "    else {\n",
    "        cout << \"Conversion de los datos a JSON exitosa\" << endl;\n",
    "        cout << \"\\ndatos del JSON recibidos\" << endl;\n",
    "        //cout << jsonData.toStyledString() << endl;\n",
    "\n",
    "        const string dateString(jsonData[\"Fecha\"].asString());\n",
    "\n",
    "\n",
    "       std::cout << \"\\tDate string: \" << jsonData[\"Fecha\"] << std::endl;\n",
    "        std::cout << std::endl;\n",
    "    }\n",
    "    return jsonData;\n",
    "    \n",
    "}"
   ]
  },
  {
   "cell_type": "code",
   "execution_count": 9,
   "metadata": {},
   "outputs": [],
   "source": [
    "void getGasolineras()\n",
    "{\n",
    "    const std::string url(\"https://sedeaplicaciones.minetur.gob.es/ServiciosRESTCarburantes/PreciosCarburantes/EstacionesTerrestres/FiltroProvinciaProducto/28/1\");\n",
    "    CURL* curl = curl_easy_init();\n",
    "    string readBuffer;\n",
    "    long httpCode(0);\n",
    "    \n",
    "    if (curl) {\n",
    "        // Configurar como request GET\n",
    "        curl_easy_setopt(curl, CURLOPT_CUSTOMREQUEST, \"GET\");\n",
    "        // Configurar el URL.\n",
    "        curl_easy_setopt(curl, CURLOPT_URL, url.c_str());\n",
    "        // Para que no intente IPv6, porque aumentaria el tiempo de resolucion de DNS.\n",
    "        curl_easy_setopt(curl, CURLOPT_IPRESOLVE, CURL_IPRESOLVE_V4);\n",
    "        //Para que solo espere maximo 10 segundos la respuesta\n",
    "        curl_easy_setopt(curl, CURLOPT_TIMEOUT, 10);\n",
    "        // Follow HTTP redirects if necessary.\n",
    "        curl_easy_setopt(curl, CURLOPT_FOLLOWLOCATION, 1L);\n",
    "        \n",
    "        // Response information.\n",
    "        \n",
    "        \n",
    "        // Enlazar la funcion que va a manejar la informacion de respuesta\n",
    "        curl_easy_setopt(curl, CURLOPT_WRITEFUNCTION, WriteCallback);\n",
    "        \n",
    "        // Enlazar un contenedor para la informacion (will be passed as the last parameter to the\n",
    "        // callback handling function).  \n",
    "        curl_easy_setopt(curl, CURLOPT_WRITEDATA, &readBuffer);\n",
    "        \n",
    "        // Run our HTTP GET command, capture the HTTP response code, and clean up.\n",
    "        curl_easy_perform(curl);\n",
    "        curl_easy_getinfo(curl, CURLINFO_RESPONSE_CODE, &httpCode);\n",
    "    }\n",
    "   curl_easy_cleanup(curl);\n",
    "    \n",
    "\n",
    "    if (httpCode == 200)\n",
    "    {\n",
    "        std::cout << \"\\nGot successful response from \" << url << std::endl;\n",
    "        // La respuesta correcta - terminado con lo de curl.  \n",
    "        // Intentar parsear los resultados e imprimirlos\n",
    "        Json::StreamWriterBuilder builder;\n",
    "        Json::Value jsonData = ParseJson(readBuffer);\n",
    "        \n",
    "        const Json::Value& listaprecio = jsonData[\"ListaEESSPrecio\"];\n",
    "        \n",
    "        int i=0;\n",
    "        while(i< listaprecio.size()) {\n",
    "            nodo *gasolinera= new nodo();\n",
    "            gasolinera->municipio = listaprecio[i][\"Municipio\"].asString();\n",
    "            gasolinera->provincia = listaprecio[i][\"Provincia\"].asString();\n",
    "            gasolinera->localidad = listaprecio[i][\"Localidad\"].asString();\n",
    "            gasolinera->latitud = toDouble(listaprecio[i][\"Latitud\"].asString());\n",
    "            gasolinera->longitud = toDouble(listaprecio[i][\"Longitud (WGS84)\"].asString());\n",
    "            gasolinera->precio = toDouble(listaprecio[i][\"PrecioProducto\"].asString());\n",
    "            //cout << \"Latitud: \" << toDouble(listaprecio[i][\"Latitud (WGS84)\"].asString()) <<endl;\n",
    "            eQ(gasolinera);\n",
    "            i++;\n",
    "        }\n",
    "        cout << \"Numero de gasolineras: \" << i << endl;\n",
    "    }\n",
    "    else\n",
    "    {\n",
    "        std::cout << \"Couldn't GET from \" << url << \" - exiting\" << std::endl;\n",
    "        return 1;\n",
    "    }\n",
    "\n",
    "    return 0;\n",
    "}"
   ]
  },
  {
   "cell_type": "code",
   "execution_count": 10,
   "metadata": {},
   "outputs": [
    {
     "name": "stdout",
     "output_type": "stream",
     "text": [
      "\n",
      "Got successful response from https://sedeaplicaciones.minetur.gob.es/ServiciosRESTCarburantes/PreciosCarburantes/EstacionesTerrestres/FiltroProvinciaProducto/28/1\n",
      "Conversion de los datos a JSON exitosa\n",
      "\n",
      "datos del JSON recibidos\n",
      "\tDate string: \"13/01/2021 4:33:30\"\n",
      "\n",
      "Numero de gasolineras: 739\n"
     ]
    }
   ],
   "source": [
    "getGasolineras();"
   ]
  },
  {
   "cell_type": "code",
   "execution_count": null,
   "metadata": {},
   "outputs": [],
   "source": []
  },
  {
   "cell_type": "code",
   "execution_count": 11,
   "metadata": {},
   "outputs": [],
   "source": [
    "//Para hacer una cola de todos las coincidencias de la busqueda\n",
    "void push_nodo(nodo* coincidencia, nodo* &peek){\n",
    "    nodo *aux = new nodo;\n",
    "    aux->municipio= coincidencia->municipio;\n",
    "    aux->provincia=coincidencia->provincia;\n",
    "    aux->latitud=coincidencia->latitud;\n",
    "    aux->longitud=coincidencia->longitud;\n",
    "\n",
    "    aux->sgt=peek;\n",
    "    peek=aux;\n",
    "}"
   ]
  },
  {
   "cell_type": "code",
   "execution_count": 12,
   "metadata": {},
   "outputs": [],
   "source": [
    "//Para hacer busqeuda por municipio y provincia\n",
    "nodo* localizaciones(string provincia){\n",
    "    nodo* aux = head;\n",
    "    //voy a crear una nueva cola para guardar los resultados\n",
    "    nodo* peek=NULL;\n",
    "\n",
    "    if (head == NULL)\n",
    "        cout << \"Lista vacia, nada que buscar\";\n",
    "    else {\n",
    "        while (aux != NULL) {\n",
    "            if (provincia == aux->provincia) {\n",
    "                push_nodo(aux,peek);\n",
    "            }\n",
    "            aux = aux->sgt;\n",
    "        }\n",
    "\n",
    "    }\n",
    "    return peek;\n",
    "}"
   ]
  },
  {
   "cell_type": "code",
   "execution_count": 13,
   "metadata": {},
   "outputs": [],
   "source": [
    "//Queria utilizar tambien Stacks para practicar y porque son muy practicas\n",
    "string prtresultados(nodo* peek){\n",
    "    string contenido=\"Nombre \\t\\t Apellido\\t\\t Expediente\\n\";\n",
    "    nodo *aux = peek;\n",
    "    int i=0;\n",
    "    if(aux==NULL)\n",
    "        cout<<\"Nada que imprimir, Stack vacia\\n\";\n",
    "    else {\n",
    "        //cout << contenido << endl;\n",
    "        while (aux != NULL && i<5) {\n",
    "            cout << \"Nombre: \" << aux->municipio << \" \" << aux->provincia << \"\\nLatitud: \" << aux->latitud\n",
    "                 << \"\\n\" << endl;\n",
    "            contenido+=aux->municipio + \"\\t\\t\" + aux->provincia + \"\\t\\t\\t\" + to_string(aux->latitud) + \"\\n\";\n",
    "            aux = aux->sgt;\n",
    "            i++;\n",
    "        }\n",
    "    }\n",
    "    return contenido;\n",
    "}"
   ]
  },
  {
   "cell_type": "code",
   "execution_count": 14,
   "metadata": {},
   "outputs": [
    {
     "name": "stdout",
     "output_type": "stream",
     "text": [
      "Nombre: Ajalvir MADRID\n",
      "Latitud: 40.5267\n",
      "\n",
      "Nombre: Álamo (El) MADRID\n",
      "Latitud: 40.2515\n",
      "\n",
      "Nombre: Álamo (El) MADRID\n",
      "Latitud: 40.2391\n",
      "\n",
      "Nombre: Alcalá de Henares MADRID\n",
      "Latitud: 40.4982\n",
      "\n",
      "Nombre: Alcalá de Henares MADRID\n",
      "Latitud: 40.5083\n",
      "\n"
     ]
    }
   ],
   "source": [
    "prtresultados(head);"
   ]
  },
  {
   "cell_type": "markdown",
   "metadata": {},
   "source": [
    "MAPA"
   ]
  },
  {
   "cell_type": "code",
   "execution_count": 9,
   "metadata": {},
   "outputs": [
    {
     "data": {
      "application/vnd.jupyter.widget-view+json": {
       "model_id": "326b1afc6fc74ff78d3967a24dda5db3",
       "version_major": 2,
       "version_minor": 0
      },
      "text/plain": [
       "A Jupyter widget"
      ]
     },
     "metadata": {},
     "output_type": "display_data"
    }
   ],
   "source": [
    "xlf::map mymap;\n",
    "nodo *aux = localizaciones(\"MADRID\", \"MADRID\");\n",
    "mymap.zoom = 10;\n",
    "// latitude 52.204793, longitude 360.121558\n",
    "mymap.center = std::array<double, 2>({aux->latitud, aux->longitud});\n",
    "mymap.display();"
   ]
  },
  {
   "cell_type": "code",
   "execution_count": 10,
   "metadata": {},
   "outputs": [],
   "source": [
    "auto marker1 = xlf::marker::initialize()\n",
    "    .location({(aux->latitud)+0.01, (aux->longitud)+0.01})\n",
    "    .title(aux->municipio)\n",
    "    .finalize();"
   ]
  },
  {
   "cell_type": "code",
   "execution_count": 11,
   "metadata": {},
   "outputs": [
    {
     "data": {
      "application/vnd.jupyter.widget-view+json": {
       "model_id": "326b1afc6fc74ff78d3967a24dda5db3",
       "version_major": 2,
       "version_minor": 0
      },
      "text/plain": [
       "A Jupyter widget"
      ]
     },
     "metadata": {},
     "output_type": "display_data"
    }
   ],
   "source": [
    "mymap.add_layer(marker1);\n",
    "\n",
    "mymap.display()"
   ]
  },
  {
   "cell_type": "code",
   "execution_count": 12,
   "metadata": {},
   "outputs": [],
   "source": [
    "xw::html message1;\n",
    "xw::html message2;\n",
    "message1.value = \"Try clicking the marker!\";\n",
    "message2.value = \"Hello <b>World</b>\";\n",
    "message2.placeholder = \"Some HTML\";\n",
    "message2.description = \"Some HTML\";\n",
    "\n",
    "// Popup with a given location on the map:\n",
    "auto popup = xlf::popup::initialize()\n",
    "    .location({aux->latitud, aux->longitud})\n",
    "    .child(message1)\n",
    "    .close_button(false)\n",
    "    .auto_close(false)\n",
    "    .close_on_escape_key(false)\n",
    "    .finalize();\n",
    "mymap.add_layer(popup);\n",
    "\n",
    "// Popup associated to a layer\n",
    "marker1.popup = message2;"
   ]
  },
  {
   "cell_type": "code",
   "execution_count": null,
   "metadata": {},
   "outputs": [],
   "source": [
    "nodo *aux = localizaciones(\"MADRID\", \"MADRID\");\n",
    "xlf::marker marker;\n",
    "int i=0;\n",
    "array<xlf::marker, 5> array_markers;\n",
    "    \n",
    "        //cout << contenido << endl;\n",
    "        while (aux != NULL && i<5) {\n",
    "             std::cout << \"en el while\" <<std::endl;\n",
    "             marker.location=std::array<double, 2>({aux->latitud, aux->longitud});\n",
    "            array_markers[i] = marker;\n",
    "            aux = aux->sgt;\n",
    "            i++;\n",
    "        }\n",
    "    cout << array_markers.size() << endl;\n",
    "\n",
    "xlf::marker_cluster marker_cluster = xlf::marker_cluster::initialize() .markers(array_markers)\n",
    ".finalize();\n",
    "\n",
    "mymap.add_layer(marker_cluster);"
   ]
  },
  {
   "cell_type": "code",
   "execution_count": null,
   "metadata": {},
   "outputs": [
    {
     "name": "stderr",
     "output_type": "stream",
     "text": [
      "In file included from input_line_9:2:\n",
      "In file included from /Users/sol/opt/miniconda3/envs/cling/include/xwidgets/xhtml.hpp:13:\n",
      "In file included from /Users/sol/opt/miniconda3/envs/cling/include/xwidgets/xstring.hpp:14:\n",
      "In file included from /Users/sol/opt/miniconda3/envs/cling/include/xwidgets/xwidget.hpp:15:\n",
      "In file included from /Users/sol/opt/miniconda3/envs/cling/include/xwidgets/xlayout.hpp:16:\n",
      "In file included from /Users/sol/opt/miniconda3/envs/cling/include/xwidgets/xobject.hpp:18:\n",
      "In file included from /Users/sol/opt/miniconda3/envs/cling/include/xwidgets/xtransport.hpp:19:\n",
      "In file included from /Users/sol/opt/miniconda3/envs/cling/include/xproperty/xobserved.hpp:20:\n",
      "\u001b[1m/Users/sol/opt/miniconda3/envs/cling/include/xproperty/xproperty.hpp:201:19: \u001b[0m\u001b[0;1;31merror: \u001b[0m\u001b[1mno matching conversion for functional-style cast from\n",
      "      'std::__1::array<xw::xmaterialize<xlf::xmarker>, 5>' to\n",
      "      'xp::xproperty<std::__1::vector<xw::xholder,\n",
      "      std::__1::allocator<xw::xholder> >, xw::xmaterialize<xlf::xmarker_cluster>\n",
      "      >::value_type' (aka 'std::__1::vector<xw::xholder,\n",
      "      std::__1::allocator<xw::xholder> >')\u001b[0m\n",
      "        m_value = value_type(std::forward<Arg>(arg), std::forward<Args>(...\n",
      "\u001b[0;1;32m                  ^~~~~~~~~~~~~~~~~~~~~~~~~~~~~~~~~\n",
      "\u001b[0m\u001b[1minput_line_26:16:80: \u001b[0m\u001b[0;1;30mnote: \u001b[0min instantiation"
     ]
    }
   ],
   "source": [
    "nodo *aux = localizaciones(\"MADRID\", \"MADRID\");\n",
    "xlf::marker marker;\n",
    "int i=0;\n",
    "array<xlf::marker, 5> array_markers;\n",
    "    \n",
    "        //cout << contenido << endl;\n",
    "        while (aux != NULL && i<5) {\n",
    "             std::cout << \"en el while\" <<std::endl;\n",
    "             marker.location=std::array<double, 2>({aux->latitud, aux->longitud});\n",
    "            array_markers[i] = marker;\n",
    "            aux = aux->sgt;\n",
    "            i++;\n",
    "        }\n",
    "    cout << array_markers.size() << endl;\n",
    "\n",
    "xlf::marker_cluster marker_cluster = xlf::marker_cluster::initialize() .markers(array_markers)\n",
    ".finalize();\n",
    "\n",
    "mymap.add_layer(marker_cluster);"
   ]
  },
  {
   "cell_type": "code",
   "execution_count": 44,
   "metadata": {},
   "outputs": [
    {
     "data": {
      "application/vnd.jupyter.widget-view+json": {
       "model_id": "b31b9685f749406585eebd7ff33a7466",
       "version_major": 2,
       "version_minor": 0
      },
      "text/plain": [
       "A Jupyter widget"
      ]
     },
     "metadata": {},
     "output_type": "display_data"
    }
   ],
   "source": [
    "mymap.add_layer()"
   ]
  },
  {
   "cell_type": "code",
   "execution_count": null,
   "metadata": {},
   "outputs": [],
   "source": []
  }
 ],
 "metadata": {
  "kernelspec": {
   "display_name": "C++17",
   "language": "C++17",
   "name": "xcpp17"
  },
  "language_info": {
   "codemirror_mode": "text/x-c++src",
   "file_extension": ".cpp",
   "mimetype": "text/x-c++src",
   "name": "c++",
   "version": "17"
  }
 },
 "nbformat": 4,
 "nbformat_minor": 4
}
