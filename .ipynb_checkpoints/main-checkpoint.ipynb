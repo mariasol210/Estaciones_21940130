{
 "cells": [
  {
   "cell_type": "markdown",
   "metadata": {},
   "source": [
    "<img src=\"gas2.png\" alt=\"Gas\" align=\"left\" style=\"width: 60px;\"/> \n",
    "<img src=\"uem.png\" alt=\"Drawing\" align=\"right\" style=\"width: 300px;\"/> "
   ]
  },
  {
   "cell_type": "markdown",
   "metadata": {},
   "source": [
    "--- \n",
    "<center> <font  size=\"10\" color=\"#de3831\">\n",
    "    <b> TRABAJO FINAL DE PEL </b>\n",
    "</font> </center>"
   ]
  },
  {
   "cell_type": "markdown",
   "metadata": {},
   "source": [
    "<center> El programa permite realizar una busqueda de las 5 gasolineras con los precios mas baratos en un tipo de combustible de una localizacion indicada por el usuario.</center>"
   ]
  },
  {
   "cell_type": "markdown",
   "metadata": {},
   "source": [
    "<center> Integrantes </center>"
   ]
  },
  {
   "cell_type": "markdown",
   "metadata": {},
   "source": [
    "<center>  Maria Sol Torres Lopez <br />\n",
    "    Diego Martin Campos <br />\n",
    "    Victor Perez Perez <br />\n",
    "    Miguel Ramos <br />\n",
    "    Pablo Pascual <br />\n",
    "    Adilem Dobras </center> "
   ]
  },
  {
   "cell_type": "markdown",
   "metadata": {},
   "source": [
    "---\n",
    " <font size=\"6\" color=\"black\">\n",
    "1. CREAR Y CONFIGURAR EL AMBIENTE\n",
    "</font> "
   ]
  },
  {
   "cell_type": "markdown",
   "metadata": {},
   "source": [
    "#### Configurar las librerias externas especificando los paths donde estan y cargandolas"
   ]
  },
  {
   "cell_type": "code",
   "execution_count": 1,
   "metadata": {},
   "outputs": [],
   "source": [
    "#pragma cling add_library_path(\"/Users/sol/opt/miniconda3/envs/cling/lib\")\n",
    "#pragma cling add_include_path(\"/Users/sol/opt/miniconda3/envs/cling/include\")\n",
    "#pragma cling load(\"libcurl\")\n",
    "\n",
    "#pragma cling add_library_path(\"/Users/sol/opt/miniconda3/envs/cling/lib\")\n",
    "#pragma cling add_include_path(\"/Users/sol/opt/miniconda3/envs/cling/include\")\n",
    "#pragma cling load(\"libjsoncpp\")"
   ]
  },
  {
   "cell_type": "markdown",
   "metadata": {},
   "source": [
    "#### Incluir las librerias necesarias"
   ]
  },
  {
   "cell_type": "code",
   "execution_count": 2,
   "metadata": {},
   "outputs": [],
   "source": [
    "#include <iostream>\n",
    "#include <fstream>\n",
    "#include <string>\n",
    "#include <array>\n",
    "#include <algorithm>\n",
    "\n",
    "//Curl\n",
    "#include <curl/curl.h>\n",
    "\n",
    "//Json\n",
    "#include <json/json.h>\n",
    "#include <json/reader.h>\n",
    "#include <json/writer.h>\n",
    "#include <json/value.h>\n",
    "\n",
    "//Mapas\n",
    "#include \"xleaflet/xmap.hpp\"\n",
    "#include \"xleaflet/xtile_layer.hpp\"\n",
    "#include \"xleaflet/xmarker.hpp\"\n",
    "#include \"xleaflet/xmarker_cluster.hpp\"\n",
    "#include \"xleaflet/xicon.hpp\"\n",
    "#include \"xleaflet/xbasemaps.hpp\"\n",
    "#include \"xleaflet/xpopup.hpp\"\n",
    "#include \"xwidgets/xhtml.hpp\"\n",
    "\n",
    "//mapas y json\n",
    "#include \"xleaflet/xgeo_json.hpp\"\n",
    "\n",
    "using namespace std;\n"
   ]
  },
  {
   "cell_type": "markdown",
   "metadata": {},
   "source": [
    "<font size=\"6\" color=\"black\">\n",
    "2. ESTRUCTURA PARA ALMACENAR DATOS\n",
    "</font> "
   ]
  },
  {
   "cell_type": "markdown",
   "metadata": {},
   "source": [
    "#### Creacion de la estructura guardar los datos de las estaciones de servicio"
   ]
  },
  {
   "cell_type": "code",
   "execution_count": 3,
   "metadata": {},
   "outputs": [],
   "source": [
    "struct estacion {\n",
    "    string provincia;\n",
    "    string municipio;\n",
    "    string localidad;\n",
    "    string codigoPostal;\n",
    "    string direccion;\n",
    "    string margen;\n",
    "    double longitud;\n",
    "    double latitud;\n",
    "    double precio;\n",
    "    string rotulo;\n",
    "\n",
    "    estacion *next;\n",
    "};"
   ]
  },
  {
   "cell_type": "markdown",
   "metadata": {},
   "source": [
    "<font size=\"6\" color=\"black\">\n",
    "3. FUNCIONES\n",
    "</font> "
   ]
  },
  {
   "cell_type": "markdown",
   "metadata": {},
   "source": [
    "* Funcion para enlistar una estacion a una lista de estaciones"
   ]
  },
  {
   "cell_type": "code",
   "execution_count": 4,
   "metadata": {},
   "outputs": [],
   "source": [
    "void eQ(estacion*& lista, estacion* gasolinera);"
   ]
  },
  {
   "cell_type": "code",
   "execution_count": 5,
   "metadata": {
    "jupyter": {
     "source_hidden": true
    }
   },
   "outputs": [],
   "source": [
    "void eQ(estacion*& lista, estacion* gasolinera) {\n",
    "    estacion* aux = new estacion();\n",
    "    \n",
    "    aux->provincia = gasolinera->provincia;\n",
    "    aux->municipio = gasolinera->municipio;        \n",
    "    aux->localidad = gasolinera->localidad;\n",
    "    aux->codigoPostal= gasolinera->codigoPostal;\n",
    "    aux->direccion= gasolinera->direccion;\n",
    "    aux->margen= gasolinera->margen;\n",
    "    aux->longitud = gasolinera->longitud;\n",
    "    aux->latitud = gasolinera->latitud;\n",
    "    aux->precio = gasolinera->precio;\n",
    "    aux->rotulo= gasolinera->rotulo;\n",
    "    \n",
    "    if (lista==NULL){\n",
    "        lista = aux;\n",
    "        aux->next = NULL;\n",
    "    }else{\n",
    "        aux->next = lista;\n",
    "        lista = aux;\n",
    "    }\n",
    "}"
   ]
  },
  {
   "cell_type": "markdown",
   "metadata": {},
   "source": [
    "* Manejar la informacion de respuesta del GET REQUEST"
   ]
  },
  {
   "cell_type": "code",
   "execution_count": 6,
   "metadata": {},
   "outputs": [],
   "source": [
    "size_t WriteCallback(char* contenido, size_t size, size_t num, string* out);"
   ]
  },
  {
   "cell_type": "code",
   "execution_count": 7,
   "metadata": {
    "jupyter": {
     "source_hidden": true
    }
   },
   "outputs": [],
   "source": [
    "static size_t WriteCallback(char* contenido, size_t size, size_t num, string* out) {\n",
    "    out -> append(contenido, size * num);\n",
    "        return size * num;\n",
    "}"
   ]
  },
  {
   "cell_type": "markdown",
   "metadata": {},
   "source": [
    "* Transformar a double los datos numericos"
   ]
  },
  {
   "cell_type": "code",
   "execution_count": 8,
   "metadata": {},
   "outputs": [],
   "source": [
    "//Reemplaza las comas por puntos de un numero en string y luego lo transforma a double\n",
    "double toDouble(string s); "
   ]
  },
  {
   "cell_type": "code",
   "execution_count": 9,
   "metadata": {
    "jupyter": {
     "source_hidden": true
    }
   },
   "outputs": [],
   "source": [
    "double toDouble(string s) {\n",
    "    replace(s.begin(), s.end(), ',', '.');\n",
    "        return atof(s.c_str());\n",
    "}"
   ]
  },
  {
   "cell_type": "markdown",
   "metadata": {},
   "source": [
    "* Transformar del string que se obtiene de la lectura de la API a un objeto JSON"
   ]
  },
  {
   "cell_type": "code",
   "execution_count": 10,
   "metadata": {},
   "outputs": [],
   "source": [
    "Json::Value ParseJson(string content);"
   ]
  },
  {
   "cell_type": "code",
   "execution_count": 11,
   "metadata": {
    "jupyter": {
     "source_hidden": true
    }
   },
   "outputs": [],
   "source": [
    "static Json::Value ParseJson(string content) {\n",
    "    Json::CharReaderBuilder builder;\n",
    "    Json::CharReader* reader = builder.newCharReader();\n",
    "    \n",
    "    Json::Value jsonData;\n",
    "    string errors;\n",
    "    \n",
    "    bool exitoParseando = reader->parse(content.c_str(), content.c_str() + content.size(), &jsonData, &errors);\n",
    "    delete reader;\n",
    "    \n",
    "    if (!exitoParseando) {\n",
    "        cout << \"Error transfromando la informacion HTTP a JSON\" << std::endl;\n",
    "        cout << \"Los datos del HTTP eran:\\n\" << content << std::endl;\n",
    "        return 0;\n",
    "    }\n",
    "    else {\n",
    "        //cout << \"Conversion de los datos a JSON exitosa\" << endl;\n",
    "    \n",
    "        const string dateString(jsonData[\"Fecha\"].asString());\n",
    "\n",
    "       std::cout << \"Datos actualizados del: \" << jsonData[\"Fecha\"] << std::endl;\n",
    "        std::cout << std::endl;\n",
    "    }\n",
    "    return jsonData;\n",
    "    \n",
    "}"
   ]
  },
  {
   "cell_type": "markdown",
   "metadata": {},
   "source": [
    "* Hace el request de la informacion y guarda las estaciones en una lista"
   ]
  },
  {
   "cell_type": "code",
   "execution_count": 12,
   "metadata": {},
   "outputs": [],
   "source": [
    "void getGasolineras(int tipo, estacion *&lista);"
   ]
  },
  {
   "cell_type": "code",
   "execution_count": 13,
   "metadata": {
    "jupyter": {
     "source_hidden": true
    }
   },
   "outputs": [],
   "source": [
    "void getGasolineras(int tipo, estacion *&lista)\n",
    "{\n",
    "    string IDProducto;\n",
    "    \n",
    "    if(tipo == 1) {\n",
    "        IDProducto = \"1\";\n",
    "    }\n",
    "    if(tipo == 2){\n",
    "        IDProducto = \"23\";\n",
    "    }\n",
    "    if(tipo == 3){\n",
    "        IDProducto = \"20\";\n",
    "    }\n",
    "    if (tipo == 4){\n",
    "       IDProducto = \"3\";\n",
    "    }\n",
    "    if (tipo == 5){\n",
    "        IDProducto = \"21\";\n",
    "    }\n",
    "    if (tipo == 6){\n",
    "        IDProducto = \"4\";\n",
    "    }\n",
    "    if (tipo == 7){\n",
    "        IDProducto = \"5\";    \n",
    "    }\n",
    "    if (tipo == 8){\n",
    "        IDProducto = \"6\";\n",
    "    }\n",
    "    \n",
    "    if (tipo < 9) {\n",
    "    \n",
    "    const std::string url(\"https://sedeaplicaciones.minetur.gob.es/ServiciosRESTCarburantes/PreciosCarburantes/EstacionesTerrestres/FiltroProducto/\" + IDProducto);\n",
    "    CURL* curl = curl_easy_init();\n",
    "    string readBuffer;\n",
    "    long httpCode(0);\n",
    "    \n",
    "    if (curl) {\n",
    "        // Configurar como request GET\n",
    "        curl_easy_setopt(curl, CURLOPT_CUSTOMREQUEST, \"GET\");\n",
    "        // Configurar el URL.\n",
    "        curl_easy_setopt(curl, CURLOPT_URL, url.c_str());\n",
    "        // Para que no intente IPv6, porque aumentaria el tiempo de resolucion de DNS.\n",
    "        curl_easy_setopt(curl, CURLOPT_IPRESOLVE, CURL_IPRESOLVE_V4);\n",
    "        //Para que solo espere maximo 10 segundos la respuesta\n",
    "        curl_easy_setopt(curl, CURLOPT_TIMEOUT, 10);\n",
    "        // Follow HTTP redirects if necessary.\n",
    "        curl_easy_setopt(curl, CURLOPT_FOLLOWLOCATION, 1L);\n",
    "        \n",
    "        // Enlazar la funcion que va a manejar la informacion de respuesta\n",
    "        curl_easy_setopt(curl, CURLOPT_WRITEFUNCTION, WriteCallback);\n",
    "        \n",
    "        // Enlazar un contenedor para la informacion (will be passed as the last parameter to the\n",
    "        // callback handling function).  \n",
    "        curl_easy_setopt(curl, CURLOPT_WRITEDATA, &readBuffer);\n",
    "        \n",
    "        // Run our HTTP GET command, capture the HTTP response code, and clean up.\n",
    "        curl_easy_perform(curl);\n",
    "        curl_easy_getinfo(curl, CURLINFO_RESPONSE_CODE, &httpCode);\n",
    "    }\n",
    "   curl_easy_cleanup(curl);\n",
    "    \n",
    "\n",
    "    if (httpCode == 200)\n",
    "    {\n",
    "        std::cout << \"\\nRespuesta exitosa de \" << url << std::endl;\n",
    "        // La respuesta correcta - terminado con lo de curl.  \n",
    "        // Intentar parsear los resultados e imprimirlos\n",
    "        Json::StreamWriterBuilder builder;\n",
    "        Json::Value jsonData = ParseJson(readBuffer);\n",
    "        \n",
    "        const Json::Value& listaprecio = jsonData[\"ListaEESSPrecio\"];\n",
    "    \n",
    "        int i=0;\n",
    "        while(i< listaprecio.size()) {\n",
    "            estacion *gasolinera= new estacion();\n",
    "\n",
    "            gasolinera->provincia = listaprecio[i][\"Provincia\"].asString();\n",
    "            \n",
    "            //Pasar a mayus\n",
    "            string municipio = listaprecio[i][\"Municipio\"].asString();\n",
    "            for_each(municipio.begin(), municipio.end(), [](char & c){\n",
    "                c = ::toupper(c);\n",
    "            });\n",
    "            \n",
    "            gasolinera->municipio = municipio;\n",
    "            gasolinera->localidad = listaprecio[i][\"Localidad\"].asString();\n",
    "            gasolinera->codigoPostal= listaprecio[i][\"C.P.\"].asString();\n",
    "            gasolinera->direccion= listaprecio[i][\"Dirección\"].asString();\n",
    "            gasolinera->margen= listaprecio[i][\"Margen\"].asString();\n",
    "            gasolinera->longitud = toDouble(listaprecio[i][\"Longitud (WGS84)\"].asString());\n",
    "            gasolinera->latitud = toDouble(listaprecio[i][\"Latitud\"].asString());\n",
    "            gasolinera->precio = toDouble(listaprecio[i][\"PrecioProducto\"].asString());\n",
    "            gasolinera->rotulo= listaprecio[i][\"Rótulo\"].asString();\n",
    "            \n",
    "            if (lista==NULL){\n",
    "                lista = gasolinera;\n",
    "                gasolinera->next = NULL;\n",
    "            }else{\n",
    "                gasolinera->next = lista;\n",
    "                lista = gasolinera;\n",
    "            }\n",
    "            i++;\n",
    "        }\n",
    "    }\n",
    "    else\n",
    "    {\n",
    "        std::cout << \"No se pudieron recuperar los datos de \" << url << \" - saliendo...\" << std::endl;\n",
    "        \n",
    "    }\n",
    "    }\n",
    "}"
   ]
  },
  {
   "cell_type": "markdown",
   "metadata": {},
   "source": [
    "* Busqueda de las estaciones de servicio (gasolineras) mas baratas"
   ]
  },
  {
   "cell_type": "code",
   "execution_count": 14,
   "metadata": {},
   "outputs": [],
   "source": [
    "void gasolinera(estacion *list, string provincia, string municipio, string localidad, estacion *&resultados);"
   ]
  },
  {
   "cell_type": "code",
   "execution_count": 15,
   "metadata": {
    "jupyter": {
     "source_hidden": true
    }
   },
   "outputs": [],
   "source": [
    "void gasolinera(estacion *list, string provincia, string municipio, string localidad, estacion *&resultados){\n",
    "    estacion *comprobar = list;\n",
    "    estacion *header1 = list;\n",
    "    estacion *peque1 = list;\n",
    "    estacion *peque2= list;\n",
    "    estacion *peque3= list;\n",
    "    estacion *peque4= list;\n",
    "    estacion *peque5= list;\n",
    "    \n",
    "    int contprovincia = 0;\n",
    "    int contmunicipio = 0;\n",
    "    int contlocalidad = 0;\n",
    "    \n",
    "    double precio=0.0;\n",
    "\n",
    "    //comprobamos que los valores esten\n",
    "    do{\n",
    "        //cout << \"Provincia actual: \" << comprobar->provincia << endl;\n",
    "        if(comprobar->provincia == provincia){\n",
    "            contprovincia++;\n",
    "        }\n",
    "        if(comprobar->municipio == municipio){\n",
    "            contmunicipio++;\n",
    "        }\n",
    "        if(comprobar->localidad == localidad){\n",
    "            contlocalidad++;\n",
    "        }\n",
    "        comprobar = comprobar->next;\n",
    "    }while(comprobar != NULL);\n",
    "    if(contprovincia != 0 && contmunicipio != 0 && contlocalidad != 0) {\n",
    "        cout<<\"Buscando gasolineras localizacion indicada...\"<<endl;\n",
    "    }else if(contprovincia == 0 || contmunicipio == 0 || contlocalidad == 0){\n",
    "        cout<<\"Estos datos no se encuentran, asegurese de que estan correctamente escritos (Mayusculas)\"<<endl;\n",
    "        return;\n",
    "    }\n",
    "    \n",
    "    //para el mas barato\n",
    "    while(header1!=NULL){\n",
    "        if((header1->provincia)==provincia && (header1->municipio)==municipio && (header1->localidad)==localidad && (header1->precio)<= (peque1->precio)) {\n",
    "            peque1=header1;\n",
    "            precio = peque1->precio;\n",
    "        }\n",
    "        header1 = header1->next;\n",
    "    }\n",
    "    \n",
    "    if(precio == 0.0){\n",
    "        cout<<\"Ninguna gasolinera tiene este tipo de gasolina.\"<<endl;\n",
    "        return;\n",
    "    }\n",
    "   \n",
    "    eQ(resultados, peque1);\n",
    "    cout<<\"Calle 1: \"<< peque1->direccion<<\"   Precio: \"<<precio<<endl;\n",
    "    \n",
    "    if(contlocalidad == 1){\n",
    "        cout<<\"En \"<<localidad<<\" solo existe una gasolinera.\"<<endl;\n",
    "        return;\n",
    "    }\n",
    "\n",
    "    //para el segundo mas barato\n",
    "    header1 = list;\n",
    "    while(header1!=NULL){\n",
    "        if((header1->provincia)==provincia && (header1->municipio)==municipio && (header1->localidad)==localidad && (header1->precio)<= (peque2->precio) && header1!= peque1) {\n",
    "            peque2=header1;\n",
    "            precio=peque2->precio;\n",
    "        }\n",
    "        header1 = header1->next;\n",
    "    }\n",
    "\n",
    "    if(precio == 0.0){\n",
    "        cout<<\"Esta localidad solo tiene este tipo de gasolina una vez.\"<<endl;\n",
    "        return;\n",
    "    }\n",
    "    \n",
    "    eQ(resultados, peque2);\n",
    "    cout<<\"Calle 2: \"<< peque2->direccion<<\"   Precio: \"<<precio<<endl;\n",
    "    if(contlocalidad == 2){\n",
    "        cout<<\"En \"<<localidad<<\" solo existen dos gasolineras.\"<<endl;\n",
    "        return;\n",
    "    }\n",
    "\n",
    "    //para el tercer mas barato\n",
    "    header1 = list;\n",
    "    while(header1!=NULL){\n",
    "        if((header1->provincia)==provincia && (header1->municipio)==municipio && (header1->localidad)==localidad && (header1->precio)<= (peque3->precio) && header1 != peque1 && header1 != peque2) {\n",
    "            peque3=header1;\n",
    "            precio=peque3->precio;\n",
    "        }\n",
    "        header1 = header1->next;\n",
    "    }\n",
    "\n",
    "    if(peque3->precio == 0){\n",
    "        cout<<\"Esta localidad solo tiene este tipo de gasolina dos veces.\"<<endl;\n",
    "        return;\n",
    "    }\n",
    "    eQ(resultados, peque3);\n",
    "    cout<<\"Calle 3: \"<< peque3->direccion<<\"   Precio: \"<<precio<<endl;\n",
    "    if(contlocalidad == 3){\n",
    "        cout<<\"En \"<<localidad<<\" solo existen tres gasolineras.\"<<endl;\n",
    "        return;\n",
    "    }\n",
    "\n",
    "    //para el cuarto mas barato\n",
    "    header1 = list;\n",
    "    while(header1!=NULL){\n",
    "        if((header1->provincia)==provincia && (header1->municipio)==municipio && (header1->localidad)==localidad && (header1->precio)<= (peque4->precio) && header1 != peque1 && header1 != peque2 && header1 != peque3) {\n",
    "            peque4=header1;\n",
    "            precio=peque4->precio;\n",
    "        }\n",
    "        header1 = header1->next;\n",
    "    }\n",
    "\n",
    "    if(precio == 0){\n",
    "        cout<<\"Esta localidad solo tiene este tipo de gasolina tres veces.\"<<endl;\n",
    "        return;\n",
    "    }\n",
    "    eQ(resultados, peque4);\n",
    "    cout<<\"Calle 4: \"<< peque4->direccion<<\"   Precio: \"<< precio<<endl;\n",
    "    if(contlocalidad == 4){\n",
    "        cout<<\"En \"<<localidad<<\" solo existen cuatro gasolineras.\"<<endl;\n",
    "        return;\n",
    "    }\n",
    "\n",
    "    //calculamos el pequeño 5\n",
    "    header1 = list;\n",
    "    while(header1!=NULL){\n",
    "        if((header1->provincia)==provincia && (header1->municipio)==municipio && (header1->localidad)==localidad && (header1->precio)<= (peque5->precio) && header1 != peque1 && header1 != peque2 && header1 != peque3 && header1 != peque4) {\n",
    "            peque5=header1;\n",
    "            precio= peque5->precio;\n",
    "        }\n",
    "        header1 = header1->next;\n",
    "    }\n",
    "\n",
    "    if(precio == 0.0){\n",
    "        cout<<\"Esta localidad solo tiene este tipo de gasolina cuatro veces.\"<<endl;\n",
    "        return;\n",
    "    }\n",
    "    eQ(resultados, peque5);\n",
    "    cout<<\"Calle 5: \"<< peque5->direccion<<\"   Precio: \"<<precio<<endl;\n",
    "    if(contlocalidad == 5){\n",
    "        cout<<\"En \"<<localidad<<\" solo existen cinco gasolineras.\"<<endl;\n",
    "        return;\n",
    "    }\n",
    "\n",
    "}"
   ]
  },
  {
   "cell_type": "markdown",
   "metadata": {},
   "source": [
    "* Pinta los los marcadores de los resultados"
   ]
  },
  {
   "cell_type": "code",
   "execution_count": 16,
   "metadata": {},
   "outputs": [],
   "source": [
    "void pintarMapa(estacion* resultados);"
   ]
  },
  {
   "cell_type": "markdown",
   "metadata": {},
   "source": [
    "* Imprime la cabecera del menu"
   ]
  },
  {
   "cell_type": "code",
   "execution_count": 17,
   "metadata": {},
   "outputs": [],
   "source": [
    "void encabezadoMenu();"
   ]
  },
  {
   "cell_type": "code",
   "execution_count": 18,
   "metadata": {
    "jupyter": {
     "source_hidden": true
    }
   },
   "outputs": [],
   "source": [
    "void encabezadoMenu() {\n",
    "    //menu\n",
    "    cout<<\"  ACTIVIDAD GRUPAL PROGRAMACION CON ESTRUCUTRAS LINEALES  \"<<endl;\n",
    "    cout<<\" La actividad consiste en realizar una busqueda de las 5 \"<<endl;\n",
    "    cout<<\" gasolineras con los precios mas baratos en un tipo de \"<<endl;\n",
    "    cout<<\" combustible de una localizacion indicada por el usuario.\"<<endl;\n",
    "    cout<<\" \"<<endl;\n",
    "    cout<<\" Los participantes que han realizado este proyecto son: \"<<endl;\n",
    "    cout<<\"     Pablo Pascual\"<<endl;\n",
    "    cout<<\"     Miguel Ramos\"<<endl;\n",
    "    cout<<\"     Victor Perez\"<<endl;\n",
    "    cout<<\"     Nicolas Perez\"<<endl;\n",
    "    cout<<\"     Maria Sol Torres\"<<endl;\n",
    "    cout<<\"     Adilem Dobras\"<<endl;\n",
    "    cout<<\"     Diego Martin\"<<endl;\n",
    "    cout<<\" \"<<endl;\n",
    "    cout << \"-------------------------------------------------\" << endl;\n",
    "    cout << \"      Bienvenido al buscador de gasolineras\" << endl;\n",
    "    cout << \"-------------------------------------------------\" << endl;\n",
    "    \n",
    "}"
   ]
  },
  {
   "cell_type": "markdown",
   "metadata": {},
   "source": [
    "<font size=\"6\" color=\"black\">\n",
    "4. PROGRAMA\n",
    "</font>"
   ]
  },
  {
   "cell_type": "markdown",
   "metadata": {},
   "source": [
    "## Mapa"
   ]
  },
  {
   "cell_type": "markdown",
   "metadata": {},
   "source": [
    "#### Se crea y muestra el mapa de españa"
   ]
  },
  {
   "cell_type": "code",
   "execution_count": 19,
   "metadata": {},
   "outputs": [
    {
     "data": {
      "application/vnd.jupyter.widget-view+json": {
       "model_id": "a81e0f9260f34ce587cbff0ff02d0d59",
       "version_major": 2,
       "version_minor": 0
      },
      "text/plain": [
       "A Jupyter widget"
      ]
     },
     "metadata": {},
     "output_type": "display_data"
    }
   ],
   "source": [
    "//Crear el mapa\n",
    "xlf::map mymap;\n",
    "mymap.zoom = 6;\n",
    "//Coordenadas del centro de espana\n",
    "mymap.center = std::array<double, 2>({40.4166400, -3.7032700});\n",
    "mymap.display();"
   ]
  },
  {
   "cell_type": "markdown",
   "metadata": {},
   "source": [
    "* Definicion de la funcion pintarMapa"
   ]
  },
  {
   "cell_type": "code",
   "execution_count": 20,
   "metadata": {
    "jupyter": {
     "source_hidden": true
    }
   },
   "outputs": [],
   "source": [
    "//Una vez creado el mapa, ya puedo definir esta funcion\n",
    "void pintarMapa(estacion* resultados) {\n",
    "    estacion* aux = resultados;\n",
    "    estacion* coordinadas[5];\n",
    "    int i =0;\n",
    "    \n",
    "    //Crear array de los resultados para poder acceder a ellos facilmente y crear los marcadores\n",
    "        while (aux!=NULL && i<5) {\n",
    "            coordinadas[i]=aux;\n",
    "            aux = aux->next;                \n",
    "            i++;\n",
    "        }\n",
    "        \n",
    "        //Crear los 5 marcadores para los 5 mas baratos\n",
    "        auto marker1 = xlf::marker::initialize()\n",
    "            .location({coordinadas[0]->latitud, coordinadas[0]->longitud})\n",
    "            .title(coordinadas[0]->direccion)\n",
    "            .finalize();\n",
    "        \n",
    "        auto marker2 = xlf::marker::initialize()\n",
    "            .location({coordinadas[1]->latitud, coordinadas[1]->longitud})\n",
    "            .title(coordinadas[1]->direccion)\n",
    "            .finalize();\n",
    "        \n",
    "        auto marker3 = xlf::marker::initialize()\n",
    "            .location({coordinadas[2]->latitud, coordinadas[2]->longitud})\n",
    "            .title(coordinadas[2]->direccion)\n",
    "            .finalize();\n",
    "        \n",
    "        auto marker4 = xlf::marker::initialize()\n",
    "            .location({coordinadas[3]->latitud, coordinadas[3]->longitud})\n",
    "            .title(coordinadas[3]->direccion)\n",
    "            .finalize();\n",
    "        \n",
    "        auto marker5 = xlf::marker::initialize()\n",
    "            .location({coordinadas[4]->latitud, coordinadas[4]->longitud})\n",
    "            .title(coordinadas[4]->direccion)\n",
    "            .finalize();\n",
    "        \n",
    "        //Agruparlos en un marker cluster \n",
    "        auto marker_cluster = xlf::marker_cluster::initialize() \n",
    "            .markers({marker1, marker2, marker3, marker4, marker5})\n",
    "            .finalize();\n",
    "        \n",
    "        //Agregar una capa de los marcadores agrupados al mapa para mostrar\n",
    "        mymap.add_layer(marker_cluster);\n",
    "        mymap.center = std::array<double, 2>({resultados->latitud, resultados->longitud});\n",
    "        mymap.zoom = 11;\n",
    "            \n",
    "    }\n"
   ]
  },
  {
   "cell_type": "markdown",
   "metadata": {},
   "source": [
    "## Ejecucion del programa"
   ]
  },
  {
   "cell_type": "code",
   "execution_count": null,
   "metadata": {
    "jupyter": {
     "source_hidden": true
    }
   },
   "outputs": [
    {
     "name": "stdout",
     "output_type": "stream",
     "text": [
      "  ACTIVIDAD GRUPAL PROGRAMACION CON ESTRUCUTRAS LINEALES  \n",
      " La actividad consiste en realizar una busqueda de las 5 \n",
      " gasolineras con los precios mas baratos en un tipo de \n",
      " combustible de una localizacion indicada por el usuario.\n",
      " \n",
      " Los participantes que han realizado este proyecto son: \n",
      "     Pablo Pascual\n",
      "     Miguel Ramos\n",
      "     Victor Perez\n",
      "     Nicolas Perez\n",
      "     Maria Sol Torres\n",
      "     Adilem Dobras\n",
      "     Diego Martin\n",
      " \n",
      "-------------------------------------------------\n",
      "      Bienvenido al buscador de gasolineras\n",
      "-------------------------------------------------\n",
      "Ingrese la provincia: \n"
     ]
    },
    {
     "name": "stdin",
     "output_type": "stream",
     "text": [
      " MADRID\n"
     ]
    },
    {
     "name": "stdout",
     "output_type": "stream",
     "text": [
      "Ingrese el municipio: \n"
     ]
    },
    {
     "name": "stdin",
     "output_type": "stream",
     "text": [
      " MADRID\n"
     ]
    },
    {
     "name": "stdout",
     "output_type": "stream",
     "text": [
      "Ingrese la localidad: \n"
     ]
    },
    {
     "name": "stdin",
     "output_type": "stream",
     "text": [
      " MADRID\n"
     ]
    },
    {
     "name": "stdout",
     "output_type": "stream",
     "text": [
      "Que tipo gasolina necesita?\n",
      " Tipos gasolina:  \n",
      " 1/ Gasolina 95 E5\n",
      " 2/ Gasolina 95 E10\n",
      " 3/ Gasolina 95 E5 Premium\n",
      " 4/ Gasolina 98 E5\n",
      " 5/ Gasolina 98 E10\n",
      " 6/ Gasoleo A\n",
      " 7/ Gasoleo Premium\n",
      " 8/ Gasoleo B\n"
     ]
    },
    {
     "name": "stdin",
     "output_type": "stream",
     "text": [
      " 1\n"
     ]
    },
    {
     "name": "stdout",
     "output_type": "stream",
     "text": [
      "\n",
      "Respuesta exitosa de https://sedeaplicaciones.minetur.gob.es/ServiciosRESTCarburantes/PreciosCarburantes/EstacionesTerrestres/FiltroProducto/1\n",
      "Datos actualizados del: \"14/01/2021 1:44:47\"\n",
      "\n",
      "Buscando gasolineras localizacion indicada...\n",
      "Calle 1: CALLE MUGUET, 12   Precio: 1.059\n",
      "Calle 2: CALLE REUS, 13   Precio: 1.079\n",
      "Calle 3: CARRETERA VILLAVERDE A VALLECAS KM. 283   Precio: 1.087\n",
      "Calle 4: CALLE RESINA, 4   Precio: 1.095\n",
      "Calle 5: CALLE VALLE DE TOBALINA, 24   Precio: 1.095\n",
      "\n",
      "Los resultados de la busqueda pueden visualizarse en el mapa de la parte superior\n",
      "\n",
      "Quiere buscar otro tipo de gasolina en una ubicacion diferente? (si=1 / no=0)\n"
     ]
    }
   ],
   "source": [
    "    estacion *header = NULL;\n",
    "    string provinciaPedida, municipioPedido, localidadPedida;\n",
    "    int tipoGasolina, repetir;\n",
    "\n",
    "    //menu\n",
    "    encabezadoMenu();\n",
    "    do{\n",
    "        cout<<\"Ingrese la provincia: \"<<endl;\n",
    "        cin>>provinciaPedida;\n",
    "        cout<<\"Ingrese el municipio: \"<<endl;\n",
    "        cin>>municipioPedido;\n",
    "        cout<<\"Ingrese la localidad: \"<<endl;\n",
    "        cin>>localidadPedida;\n",
    "        cout<<\"Que tipo gasolina necesita?\"<<endl;\n",
    "        cout<<\" Tipos gasolina:  \"<<endl;\n",
    "        cout<<\" 1/ Gasolina 95 E5\"<<endl;\n",
    "        cout<<\" 2/ Gasolina 95 E10\"<<endl;\n",
    "        cout<<\" 3/ Gasolina 95 E5 Premium\"<<endl;\n",
    "        cout<<\" 4/ Gasolina 98 E5\"<<endl;\n",
    "        cout<<\" 5/ Gasolina 98 E10\"<<endl;\n",
    "        cout<<\" 6/ Gasoleo A\"<<endl;\n",
    "        cout<<\" 7/ Gasoleo Premium\"<<endl;\n",
    "        cout<<\" 8/ Gasoleo B\"<<endl;\n",
    "        cin>>tipoGasolina;\n",
    "        \n",
    "        //Descargar la informacion de las gasolineras\n",
    "        getGasolineras(tipoGasolina, header);\n",
    "        \n",
    "        //Crear nueva lista de resultados vacia\n",
    "        estacion *resultados= NULL;\n",
    "        \n",
    "        //Hacer la busqueda y devolver resultados\n",
    "        gasolinera(header,provinciaPedida,municipioPedido,localidadPedida, resultados);\n",
    "\n",
    "        //Si los resultados no estan vacios, se mostrara el mapa\n",
    "        if (resultados!=NULL) {\n",
    "            pintarMapa(resultados); \n",
    "            cout << \"\\nLos resultados de la busqueda pueden visualizarse en el mapa de la parte superior\" <<endl;\n",
    "        }\n",
    "        \n",
    "        cout<<\"\\nQuiere buscar otro tipo de gasolina en una ubicacion diferente? (si=1 / no=0)\"<<endl;\n",
    "        cin>>repetir;\n",
    "    }while(repetir == 1);\n",
    "    if(repetir == 0){\n",
    "        cout<<\"Hasta la proxima\"<<endl;\n",
    "    }\n"
   ]
  },
  {
   "cell_type": "markdown",
   "metadata": {},
   "source": [
    "<center> <font size=\"6\" color=\"black\">\n",
    "    <b>*** THE END *** </b>\n",
    "</font> </center>"
   ]
  }
 ],
 "metadata": {
  "kernelspec": {
   "display_name": "C++17",
   "language": "C++17",
   "name": "xcpp17"
  },
  "language_info": {
   "codemirror_mode": "text/x-c++src",
   "file_extension": ".cpp",
   "mimetype": "text/x-c++src",
   "name": "c++",
   "version": "17"
  }
 },
 "nbformat": 4,
 "nbformat_minor": 4
}
